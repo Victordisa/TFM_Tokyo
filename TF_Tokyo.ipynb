{
 "cells": [
  {
   "cell_type": "code",
   "execution_count": 1,
   "metadata": {
    "colab": {
     "base_uri": "https://localhost:8080/"
    },
    "id": "L-aht6_jiJik",
    "outputId": "ad6f346f-11aa-4c43-f258-1756e834a440"
   },
   "outputs": [
    {
     "name": "stdout",
     "output_type": "stream",
     "text": [
      "Requirement already satisfied: pyspark in /usr/local/lib/python3.10/dist-packages (3.5.3)\n",
      "Requirement already satisfied: py4j==0.10.9.7 in /usr/local/lib/python3.10/dist-packages (from pyspark) (0.10.9.7)\n"
     ]
    }
   ],
   "source": [
    "!pip install pyspark"
   ]
  },
  {
   "cell_type": "code",
   "execution_count": null,
   "metadata": {
    "id": "iipkrXrkiP93"
   },
   "outputs": [],
   "source": [
    "from pyspark.sql import SparkSession\n",
    "from pyspark.sql import functions as F\n",
    "from pyspark.sql.functions import  max\n",
    "from pyspark.sql.functions import col, when\n",
    "import matplotlib.pyplot as plt\n",
    "import pandas as pd\n",
    "import seaborn as sns\n",
    "from pyspark.sql.functions import corr\n",
    "import statsmodels.api as sm\n",
    "from statsmodels.formula.api import ols\n",
    "import pandas as pd\n",
    "from pyspark.ml.regression import DecisionTreeRegressor\n",
    "from pyspark.ml.feature import VectorAssembler\n",
    "from pyspark.ml.evaluation import MulticlassClassificationEvaluator\n",
    "from pyspark.ml.feature import StringIndexer, VectorAssembler\n",
    "from pyspark.ml import Pipeline\n",
    "from pyspark.ml.classification import DecisionTreeClassifier\n",
    "from pyspark.ml.classification import RandomForestClassifier\n",
    "from pyspark.ml.evaluation import RegressionEvaluator"
   ]
  },
  {
   "cell_type": "code",
   "execution_count": 3,
   "metadata": {
    "id": "NZqVVu8SiQC9"
   },
   "outputs": [],
   "source": [
    "from google.colab import drive"
   ]
  },
  {
   "cell_type": "code",
   "execution_count": 4,
   "metadata": {
    "colab": {
     "base_uri": "https://localhost:8080/"
    },
    "id": "g4e2NHbXiQFz",
    "outputId": "373c9b67-2f17-481b-b5ab-c90c030937f7"
   },
   "outputs": [
    {
     "name": "stdout",
     "output_type": "stream",
     "text": [
      "Mounted at /drive\n"
     ]
    }
   ],
   "source": [
    "drive.mount(\"/drive\")"
   ]
  },
  {
   "cell_type": "code",
   "execution_count": 5,
   "metadata": {
    "id": "o-ExMTxaiQLx"
   },
   "outputs": [],
   "source": [
    "spark = SparkSession.builder.appName(\"Datos_aerolineas\").getOrCreate()"
   ]
  },
  {
   "cell_type": "code",
   "execution_count": 6,
   "metadata": {
    "colab": {
     "base_uri": "https://localhost:8080/"
    },
    "id": "1pHc_dBAiQIx",
    "outputId": "02d4141a-4d6c-42b7-8445-8c8b25cf493a"
   },
   "outputs": [
    {
     "name": "stdout",
     "output_type": "stream",
     "text": [
      "+---------------+-----------------+---------------------------+-----------------+---------------------------+-------------+-------------------+------------------+-------------------+-------------+-------------+---------------+---------------------------+------------------------+----+-----+\n",
      "|Activity Period|Operating Airline|Operating Airline IATA Code|Published Airline|Published Airline IATA Code|  GEO Summary|         GEO Region|Activity Type Code|Price Category Code|     Terminal|Boarding Area|Passenger Count|Adjusted Activity Type Code|Adjusted Passenger Count|Year|Month|\n",
      "+---------------+-----------------+---------------------------+-----------------+---------------------------+-------------+-------------------+------------------+-------------------+-------------+-------------+---------------+---------------------------+------------------------+----+-----+\n",
      "|         200507|     ATA Airlines|                         TZ|     ATA Airlines|                         TZ|     Domestic|                 US|          Deplaned|           Low Fare|   Terminal 1|            B|          27271|                   Deplaned|                   27271|2005| July|\n",
      "|         200507|     ATA Airlines|                         TZ|     ATA Airlines|                         TZ|     Domestic|                 US|          Enplaned|           Low Fare|   Terminal 1|            B|          29131|                   Enplaned|                   29131|2005| July|\n",
      "|         200507|     ATA Airlines|                         TZ|     ATA Airlines|                         TZ|     Domestic|                 US|    Thru / Transit|           Low Fare|   Terminal 1|            B|           5415|         Thru / Transit * 2|                   10830|2005| July|\n",
      "|         200507|      Air Canada |                         AC|      Air Canada |                         AC|International|             Canada|          Deplaned|              Other|   Terminal 1|            B|          35156|                   Deplaned|                   35156|2005| July|\n",
      "|         200507|      Air Canada |                         AC|      Air Canada |                         AC|International|             Canada|          Enplaned|              Other|   Terminal 1|            B|          34090|                   Enplaned|                   34090|2005| July|\n",
      "|         200507|        Air China|                         CA|        Air China|                         CA|International|               Asia|          Deplaned|              Other|International|            G|           6263|                   Deplaned|                    6263|2005| July|\n",
      "|         200507|        Air China|                         CA|        Air China|                         CA|International|               Asia|          Enplaned|              Other|International|            G|           5500|                   Enplaned|                    5500|2005| July|\n",
      "|         200507|       Air France|                         AF|       Air France|                         AF|International|             Europe|          Deplaned|              Other|International|            A|          12050|                   Deplaned|                   12050|2005| July|\n",
      "|         200507|       Air France|                         AF|       Air France|                         AF|International|             Europe|          Enplaned|              Other|International|            A|          11638|                   Enplaned|                   11638|2005| July|\n",
      "|         200507|  Air New Zealand|                         NZ|  Air New Zealand|                         NZ|International|Australia / Oceania|          Deplaned|              Other|International|            G|           4998|                   Deplaned|                    4998|2005| July|\n",
      "|         200507|  Air New Zealand|                         NZ|  Air New Zealand|                         NZ|International|Australia / Oceania|          Enplaned|              Other|International|            G|           4962|                   Enplaned|                    4962|2005| July|\n",
      "|         200507|  AirTran Airways|                         FL|  AirTran Airways|                         FL|     Domestic|                 US|          Deplaned|           Low Fare|International|            A|           8055|                   Deplaned|                    8055|2005| July|\n",
      "|         200507|  AirTran Airways|                         FL|  AirTran Airways|                         FL|     Domestic|                 US|          Enplaned|           Low Fare|International|            A|           7984|                   Enplaned|                    7984|2005| July|\n",
      "|         200507|  Alaska Airlines|                         AS|  Alaska Airlines|                         AS|     Domestic|                 US|          Deplaned|              Other|International|            A|          36641|                   Deplaned|                   36641|2005| July|\n",
      "|         200507|  Alaska Airlines|                         AS|  Alaska Airlines|                         AS|     Domestic|                 US|          Enplaned|              Other|International|            A|          39379|                   Enplaned|                   39379|2005| July|\n",
      "|         200507|  Alaska Airlines|                         AS|  Alaska Airlines|                         AS|     Domestic|                 US|    Thru / Transit|              Other|International|            A|           3678|         Thru / Transit * 2|                    7356|2005| July|\n",
      "|         200507|  Alaska Airlines|                         AS|  Alaska Airlines|                         AS|International|             Canada|          Deplaned|              Other|International|            A|           7977|                   Deplaned|                    7977|2005| July|\n",
      "|         200507|  Alaska Airlines|                         AS|  Alaska Airlines|                         AS|International|             Canada|          Enplaned|              Other|International|            A|           8837|                   Enplaned|                    8837|2005| July|\n",
      "|         200507|  Alaska Airlines|                         AS|  Alaska Airlines|                         AS|International|             Mexico|          Deplaned|              Other|International|            A|           6969|                   Deplaned|                    6969|2005| July|\n",
      "|         200507|  Alaska Airlines|                         AS|  Alaska Airlines|                         AS|International|             Mexico|          Enplaned|              Other|International|            A|          10046|                   Enplaned|                   10046|2005| July|\n",
      "+---------------+-----------------+---------------------------+-----------------+---------------------------+-------------+-------------------+------------------+-------------------+-------------+-------------+---------------+---------------------------+------------------------+----+-----+\n",
      "only showing top 20 rows\n",
      "\n"
     ]
    }
   ],
   "source": [
    "df_aerolineas = spark.read.option(\"Header\", True).csv(\"/content/Trafico_aereo.csv\")\n",
    "df_aerolineas.show()"
   ]
  },
  {
   "cell_type": "code",
   "execution_count": 7,
   "metadata": {
    "id": "Kqz2oiwYiQOn"
   },
   "outputs": [],
   "source": [
    "df_aerolineas = df_aerolineas.withColumn(\"Passenger Count\", col(\"Passenger Count\").cast(\"int\"))"
   ]
  },
  {
   "cell_type": "code",
   "execution_count": 8,
   "metadata": {
    "colab": {
     "base_uri": "https://localhost:8080/"
    },
    "id": "x_Y5Bs8zzZ7X",
    "outputId": "d76afc53-3cf9-4502-d672-9f94f01843bb"
   },
   "outputs": [
    {
     "name": "stdout",
     "output_type": "stream",
     "text": [
      "77\n"
     ]
    }
   ],
   "source": [
    "aerolineas_distintas = df_aerolineas.select(\"Operating Airline\").distinct().count()\n",
    "print(aerolineas_distintas)"
   ]
  },
  {
   "cell_type": "code",
   "execution_count": 9,
   "metadata": {
    "colab": {
     "base_uri": "https://localhost:8080/"
    },
    "id": "fW0EIJChirps",
    "outputId": "cbe9be4c-459d-48b4-a0c7-6d9393920e47"
   },
   "outputs": [
    {
     "name": "stdout",
     "output_type": "stream",
     "text": [
      "+--------------------+---------------------+\n",
      "|   Operating Airline|Passanger Count media|\n",
      "+--------------------+---------------------+\n",
      "|   American Airlines|            127164.39|\n",
      "|  Southwest Airlines|             81188.16|\n",
      "|      Virgin America|             74405.35|\n",
      "|     United Airlines|             72732.06|\n",
      "|     Delta Air Lines|              68498.5|\n",
      "|          US Airways|             55317.82|\n",
      "|United Airlines -...|             48915.47|\n",
      "|    SkyWest Airlines|             37083.84|\n",
      "|    JetBlue Airways |             35261.14|\n",
      "|  Northwest Airlines|             26109.25|\n",
      "|    Compass Airlines|             23358.56|\n",
      "|Lufthansa German ...|             19301.97|\n",
      "|         Air Canada |             18251.56|\n",
      "|   Frontier Airlines|             17787.68|\n",
      "|     British Airways|             17625.12|\n",
      "|     Alaska Airlines|             17251.64|\n",
      "|      Cathay Pacific|             17121.33|\n",
      "|  Singapore Airlines|             14746.65|\n",
      "|         EVA Airways|             13116.36|\n",
      "|          Air France|             11589.08|\n",
      "+--------------------+---------------------+\n",
      "only showing top 20 rows\n",
      "\n"
     ]
    }
   ],
   "source": [
    "media_pasajeros = df_aerolineas.groupBy('Operating Airline').agg(\n",
    "    F.avg('Passenger Count').alias('Passanger Count media')\n",
    ")\n",
    "media_pasajeros_redondeada = media_pasajeros.withColumn(\n",
    "    'Passanger Count media',\n",
    "    F.round('Passanger Count media', 2)\n",
    ")\n",
    "media_pasajeros_ordenada = media_pasajeros_redondeada.orderBy('Passanger Count media', ascending=False)\n",
    "media_pasajeros_ordenada.show()\n",
    "\n",
    "\n",
    "\n"
   ]
  },
  {
   "cell_type": "code",
   "execution_count": 10,
   "metadata": {
    "colab": {
     "base_uri": "https://localhost:8080/"
    },
    "id": "G7OKCPoczyfl",
    "outputId": "e2a24184-2fc8-4a45-e8f3-a05d68b30ab8"
   },
   "outputs": [
    {
     "name": "stdout",
     "output_type": "stream",
     "text": [
      "+-------------------+----------------+\n",
      "|         GEO Region|maximo pasajeros|\n",
      "+-------------------+----------------+\n",
      "|             Europe|           48136|\n",
      "|    Central America|            8970|\n",
      "|                 US|          659837|\n",
      "|      South America|            3685|\n",
      "|             Mexico|           29206|\n",
      "|        Middle East|           14769|\n",
      "|             Canada|           39798|\n",
      "|Australia / Oceania|           12973|\n",
      "|               Asia|           86398|\n",
      "+-------------------+----------------+\n",
      "\n"
     ]
    }
   ],
   "source": [
    "max_pasajeros = df_aerolineas.groupBy(\"GEO Region\").agg(\n",
    "    max(\"Passenger Count\").alias(\"maximo pasajeros\")\n",
    ")\n",
    "\n",
    "\n",
    "max_pasajeros.show()"
   ]
  },
  {
   "cell_type": "code",
   "execution_count": 11,
   "metadata": {
    "colab": {
     "base_uri": "https://localhost:8080/"
    },
    "id": "XXfBTO9W1fhC",
    "outputId": "a09ee7a0-b7f0-43a9-dd23-b97ab29f02ba"
   },
   "outputs": [
    {
     "name": "stdout",
     "output_type": "stream",
     "text": [
      "+--------------------+---------------------+\n",
      "|   Operating Airline|Passanger Count media|\n",
      "+--------------------+---------------------+\n",
      "|          Icelandair|               2799.7|\n",
      "|         Ameriflight|                  5.0|\n",
      "|      Cathay Pacific|   17121.325581395347|\n",
      "|          Aeromexico|    5463.822222222222|\n",
      "|      Etihad Airways|    6476.088235294118|\n",
      "| Philippine Airlines|   10248.635658914729|\n",
      "|United Airlines -...|    48915.46750232126|\n",
      "|    Turkish Airlines|    8162.416666666667|\n",
      "| Swiss International|    6061.640287769784|\n",
      "|    Independence Air|               6391.3|\n",
      "|Miami Air Interna...|              107.375|\n",
      "|          Air France|   11589.077519379845|\n",
      "|      Japan Airlines|    6470.332046332046|\n",
      "|    Midwest Airlines|               3883.0|\n",
      "|      Atlas Air, Inc|                 34.0|\n",
      "|     JetBlue Airways|    35261.13963963964|\n",
      "|       China Eastern|    5498.402777777777|\n",
      "|   Mexicana Airlines|    7993.806451612903|\n",
      "|          Air Canada|   18251.560109289618|\n",
      "|       Allegiant Air|            1516.8125|\n",
      "+--------------------+---------------------+\n",
      "only showing top 20 rows\n",
      "\n"
     ]
    }
   ],
   "source": [
    "media_pasajeros_csv = \"/content/media_pasajeros.csv\"\n",
    "media_pasajeros.write.csv(media_pasajeros_csv, header=True, mode='overwrite')\n",
    "df_media_pasajeros = spark.read.csv(media_pasajeros_csv, header=True, inferSchema=True)\n",
    "df_media_pasajeros.show()"
   ]
  },
  {
   "cell_type": "code",
   "execution_count": 12,
   "metadata": {
    "colab": {
     "base_uri": "https://localhost:8080/"
    },
    "id": "nN4UbbdE1hDO",
    "outputId": "46e70de5-d2bd-4bfa-89d2-4f5eaa6f3079"
   },
   "outputs": [
    {
     "name": "stdout",
     "output_type": "stream",
     "text": [
      "+-------------------+----------------+\n",
      "|         GEO Region|maximo pasajeros|\n",
      "+-------------------+----------------+\n",
      "|             Europe|           48136|\n",
      "|    Central America|            8970|\n",
      "|                 US|          659837|\n",
      "|      South America|            3685|\n",
      "|             Mexico|           29206|\n",
      "|        Middle East|           14769|\n",
      "|             Canada|           39798|\n",
      "|Australia / Oceania|           12973|\n",
      "|               Asia|           86398|\n",
      "+-------------------+----------------+\n",
      "\n"
     ]
    }
   ],
   "source": [
    "max_pasajeros_csv = \"/content/max_pasajeros.csv\"\n",
    "max_pasajeros.coalesce(1).write.csv(max_pasajeros_csv, header=True, mode='overwrite')\n",
    "df_max_pasajeros = spark.read.csv(max_pasajeros_csv, header=True, inferSchema=True)\n",
    "df_max_pasajeros.show()"
   ]
  },
  {
   "cell_type": "code",
   "execution_count": 13,
   "metadata": {
    "colab": {
     "base_uri": "https://localhost:8080/"
    },
    "id": "FqBxmh3cirsk",
    "outputId": "9c73c3e1-d2ac-43a5-f956-a874523f9cb0"
   },
   "outputs": [
    {
     "name": "stdout",
     "output_type": "stream",
     "text": [
      "+---------------+-----------------+---------------------------+-----------------+---------------------------+-------------+-------------------+------------------+-------------------+-------------+-------------+---------------+---------------------------+------------------------+----+-----+---+\n",
      "|Activity Period|Operating Airline|Operating Airline IATA Code|Published Airline|Published Airline IATA Code|  GEO Summary|         GEO Region|Activity Type Code|Price Category Code|     Terminal|Boarding Area|Passenger Count|Adjusted Activity Type Code|Adjusted Passenger Count|Year|Month|mes|\n",
      "+---------------+-----------------+---------------------------+-----------------+---------------------------+-------------+-------------------+------------------+-------------------+-------------+-------------+---------------+---------------------------+------------------------+----+-----+---+\n",
      "|         200507|     ATA Airlines|                         TZ|     ATA Airlines|                         TZ|     Domestic|                 US|          Deplaned|           Low Fare|   Terminal 1|            B|          27271|                   Deplaned|                   27271|2005| July|  7|\n",
      "|         200507|     ATA Airlines|                         TZ|     ATA Airlines|                         TZ|     Domestic|                 US|          Enplaned|           Low Fare|   Terminal 1|            B|          29131|                   Enplaned|                   29131|2005| July|  7|\n",
      "|         200507|     ATA Airlines|                         TZ|     ATA Airlines|                         TZ|     Domestic|                 US|    Thru / Transit|           Low Fare|   Terminal 1|            B|           5415|         Thru / Transit * 2|                   10830|2005| July|  7|\n",
      "|         200507|      Air Canada |                         AC|      Air Canada |                         AC|International|             Canada|          Deplaned|              Other|   Terminal 1|            B|          35156|                   Deplaned|                   35156|2005| July|  7|\n",
      "|         200507|      Air Canada |                         AC|      Air Canada |                         AC|International|             Canada|          Enplaned|              Other|   Terminal 1|            B|          34090|                   Enplaned|                   34090|2005| July|  7|\n",
      "|         200507|        Air China|                         CA|        Air China|                         CA|International|               Asia|          Deplaned|              Other|International|            G|           6263|                   Deplaned|                    6263|2005| July|  7|\n",
      "|         200507|        Air China|                         CA|        Air China|                         CA|International|               Asia|          Enplaned|              Other|International|            G|           5500|                   Enplaned|                    5500|2005| July|  7|\n",
      "|         200507|       Air France|                         AF|       Air France|                         AF|International|             Europe|          Deplaned|              Other|International|            A|          12050|                   Deplaned|                   12050|2005| July|  7|\n",
      "|         200507|       Air France|                         AF|       Air France|                         AF|International|             Europe|          Enplaned|              Other|International|            A|          11638|                   Enplaned|                   11638|2005| July|  7|\n",
      "|         200507|  Air New Zealand|                         NZ|  Air New Zealand|                         NZ|International|Australia / Oceania|          Deplaned|              Other|International|            G|           4998|                   Deplaned|                    4998|2005| July|  7|\n",
      "|         200507|  Air New Zealand|                         NZ|  Air New Zealand|                         NZ|International|Australia / Oceania|          Enplaned|              Other|International|            G|           4962|                   Enplaned|                    4962|2005| July|  7|\n",
      "|         200507|  AirTran Airways|                         FL|  AirTran Airways|                         FL|     Domestic|                 US|          Deplaned|           Low Fare|International|            A|           8055|                   Deplaned|                    8055|2005| July|  7|\n",
      "|         200507|  AirTran Airways|                         FL|  AirTran Airways|                         FL|     Domestic|                 US|          Enplaned|           Low Fare|International|            A|           7984|                   Enplaned|                    7984|2005| July|  7|\n",
      "|         200507|  Alaska Airlines|                         AS|  Alaska Airlines|                         AS|     Domestic|                 US|          Deplaned|              Other|International|            A|          36641|                   Deplaned|                   36641|2005| July|  7|\n",
      "|         200507|  Alaska Airlines|                         AS|  Alaska Airlines|                         AS|     Domestic|                 US|          Enplaned|              Other|International|            A|          39379|                   Enplaned|                   39379|2005| July|  7|\n",
      "|         200507|  Alaska Airlines|                         AS|  Alaska Airlines|                         AS|     Domestic|                 US|    Thru / Transit|              Other|International|            A|           3678|         Thru / Transit * 2|                    7356|2005| July|  7|\n",
      "|         200507|  Alaska Airlines|                         AS|  Alaska Airlines|                         AS|International|             Canada|          Deplaned|              Other|International|            A|           7977|                   Deplaned|                    7977|2005| July|  7|\n",
      "|         200507|  Alaska Airlines|                         AS|  Alaska Airlines|                         AS|International|             Canada|          Enplaned|              Other|International|            A|           8837|                   Enplaned|                    8837|2005| July|  7|\n",
      "|         200507|  Alaska Airlines|                         AS|  Alaska Airlines|                         AS|International|             Mexico|          Deplaned|              Other|International|            A|           6969|                   Deplaned|                    6969|2005| July|  7|\n",
      "|         200507|  Alaska Airlines|                         AS|  Alaska Airlines|                         AS|International|             Mexico|          Enplaned|              Other|International|            A|          10046|                   Enplaned|                   10046|2005| July|  7|\n",
      "+---------------+-----------------+---------------------------+-----------------+---------------------------+-------------+-------------------+------------------+-------------------+-------------+-------------+---------------+---------------------------+------------------------+----+-----+---+\n",
      "only showing top 20 rows\n",
      "\n"
     ]
    }
   ],
   "source": [
    "datos_limpios = df_aerolineas.withColumn(\n",
    "    \"mes\",\n",
    "    F.when(F.col(\"Month\") == \"January\", 1)\n",
    "     .when(F.col(\"Month\") == \"February\", 2)\n",
    "     .when(F.col(\"Month\") == \"March\", 3)\n",
    "     .when(F.col(\"Month\") == \"April\", 4)\n",
    "     .when(F.col(\"Month\") == \"May\", 5)\n",
    "     .when(F.col(\"Month\") == \"June\", 6)\n",
    "     .when(F.col(\"Month\") == \"July\", 7)\n",
    "     .when(F.col(\"Month\") == \"August\", 8)\n",
    "     .when(F.col(\"Month\") == \"September\", 9)\n",
    "     .when(F.col(\"Month\") == \"October\", 10)\n",
    "     .when(F.col(\"Month\") == \"November\", 11)\n",
    "     .when(F.col(\"Month\") == \"December\", 12))\n",
    "datos_limpios = datos_limpios.withColumn(\"mes\", F.col(\"mes\").cast(\"integer\"))\n",
    "datos_limpios.show()"
   ]
  },
  {
   "cell_type": "code",
   "execution_count": 14,
   "metadata": {
    "id": "s8edf85iirvr"
   },
   "outputs": [],
   "source": [
    "datos_ano_mes = datos_limpios.groupBy('mes') \\\n",
    "    .agg(F.mean('Passenger Count').alias('Media_pasajeros_mes')) \\\n",
    "    .orderBy('mes')"
   ]
  },
  {
   "cell_type": "code",
   "execution_count": 15,
   "metadata": {
    "colab": {
     "base_uri": "https://localhost:8080/",
     "height": 564
    },
    "id": "DsJCkEMriry4",
    "outputId": "820f9b91-04a4-4615-a033-cd89c0cd6216"
   },
   "outputs": [
    {
     "data": {
      "image/png": "[encoded data removed]",
      "text/plain": [
       "<Figure size 1000x600 with 1 Axes>"
      ]
     },
     "metadata": {},
     "output_type": "display_data"
    }
   ],
   "source": [
    "datos_ano_mes_pd = datos_ano_mes.toPandas()\n",
    "plt.figure(figsize=(10, 6))\n",
    "plt.scatter(datos_ano_mes_pd['mes'], datos_ano_mes_pd['Media_pasajeros_mes'], color='#347383', label='Datos')\n",
    "plt.plot(datos_ano_mes_pd['mes'], datos_ano_mes_pd['Media_pasajeros_mes'], color='#347383', linewidth=1)\n",
    "plt.title('Media de Pasajeros por Mes')\n",
    "plt.xlabel('Mes')\n",
    "plt.ylabel('Media de Pasajeros')\n",
    "plt.xticks(range(1, 13))\n",
    "plt.grid(True)\n",
    "plt.legend()\n",
    "plt.show()"
   ]
  },
  {
   "cell_type": "code",
   "execution_count": 16,
   "metadata": {
    "id": "2PncAbpmir1q"
   },
   "outputs": [],
   "source": [
    "datos_aerolinea = datos_limpios.groupBy('Operating Airline', 'mes') \\\n",
    "    .agg(F.mean('Passenger Count').alias('Media_pasajeros_mes_aerolinea')) \\\n",
    "    .orderBy('mes')"
   ]
  },
  {
   "cell_type": "code",
   "execution_count": 17,
   "metadata": {
    "id": "Z3wtKJEQir45"
   },
   "outputs": [],
   "source": [
    "datos_aerolinea_ano = datos_limpios.groupBy('Year', 'Operating Airline') \\\n",
    "    .agg(F.mean('Passenger Count').alias('Media_pasajeros_ano_aerolinea')) \\\n",
    "    .orderBy('Year')"
   ]
  },
  {
   "cell_type": "code",
   "execution_count": 18,
   "metadata": {
    "id": "gnmvB6iiir8G"
   },
   "outputs": [],
   "source": [
    "datos_limpios = datos_limpios.withColumnRenamed(\"GEO Region\", \"GEO_Region\")\n",
    "datos_limpios = datos_limpios.withColumnRenamed(\"Passenger Count\", \"Cantidad_pasajeros\")\n",
    "datos_limpios = datos_limpios.withColumnRenamed(\"GEO Summary\", \"GEO_Summary\")\n",
    "datos_limpios = datos_limpios.withColumnRenamed(\"Operating Airline\", \"Operating_Airline\")"
   ]
  },
  {
   "cell_type": "code",
   "execution_count": 19,
   "metadata": {
    "colab": {
     "base_uri": "https://localhost:8080/"
    },
    "id": "CayeE0Q8ir_U",
    "outputId": "0eaf7dff-dda9-4691-8b7a-a9a57abe617b"
   },
   "outputs": [
    {
     "name": "stdout",
     "output_type": "stream",
     "text": [
      "+---------------+-----------------+---------------------------+-----------------+---------------------------+-------------+-------------------+------------------+-------------------+-------------+-------------+------------------+---------------------------+------------------------+----+-----+---+----------+------+\n",
      "|Activity Period|Operating_Airline|Operating Airline IATA Code|Published Airline|Published Airline IATA Code|  GEO_Summary|         GEO_Region|Activity Type Code|Price Category Code|     Terminal|Boarding Area|Cantidad_pasajeros|Adjusted Activity Type Code|Adjusted Passenger Count|Year|Month|mes|hemisferio|Region|\n",
      "+---------------+-----------------+---------------------------+-----------------+---------------------------+-------------+-------------------+------------------+-------------------+-------------+-------------+------------------+---------------------------+------------------------+----+-----+---+----------+------+\n",
      "|         200507|     ATA Airlines|                         TZ|     ATA Airlines|                         TZ|     Domestic|                 US|          Deplaned|           Low Fare|   Terminal 1|            B|             27271|                   Deplaned|                   27271|2005| July|  7|     Norte|     1|\n",
      "|         200507|     ATA Airlines|                         TZ|     ATA Airlines|                         TZ|     Domestic|                 US|          Enplaned|           Low Fare|   Terminal 1|            B|             29131|                   Enplaned|                   29131|2005| July|  7|     Norte|     1|\n",
      "|         200507|     ATA Airlines|                         TZ|     ATA Airlines|                         TZ|     Domestic|                 US|    Thru / Transit|           Low Fare|   Terminal 1|            B|              5415|         Thru / Transit * 2|                   10830|2005| July|  7|     Norte|     1|\n",
      "|         200507|      Air Canada |                         AC|      Air Canada |                         AC|International|             Canada|          Deplaned|              Other|   Terminal 1|            B|             35156|                   Deplaned|                   35156|2005| July|  7|     Norte|     2|\n",
      "|         200507|      Air Canada |                         AC|      Air Canada |                         AC|International|             Canada|          Enplaned|              Other|   Terminal 1|            B|             34090|                   Enplaned|                   34090|2005| July|  7|     Norte|     2|\n",
      "|         200507|        Air China|                         CA|        Air China|                         CA|International|               Asia|          Deplaned|              Other|International|            G|              6263|                   Deplaned|                    6263|2005| July|  7|     Norte|     7|\n",
      "|         200507|        Air China|                         CA|        Air China|                         CA|International|               Asia|          Enplaned|              Other|International|            G|              5500|                   Enplaned|                    5500|2005| July|  7|     Norte|     7|\n",
      "|         200507|       Air France|                         AF|       Air France|                         AF|International|             Europe|          Deplaned|              Other|International|            A|             12050|                   Deplaned|                   12050|2005| July|  7|     Norte|     3|\n",
      "|         200507|       Air France|                         AF|       Air France|                         AF|International|             Europe|          Enplaned|              Other|International|            A|             11638|                   Enplaned|                   11638|2005| July|  7|     Norte|     3|\n",
      "|         200507|  Air New Zealand|                         NZ|  Air New Zealand|                         NZ|International|Australia / Oceania|          Deplaned|              Other|International|            G|              4998|                   Deplaned|                    4998|2005| July|  7|       Sur|     4|\n",
      "|         200507|  Air New Zealand|                         NZ|  Air New Zealand|                         NZ|International|Australia / Oceania|          Enplaned|              Other|International|            G|              4962|                   Enplaned|                    4962|2005| July|  7|       Sur|     4|\n",
      "|         200507|  AirTran Airways|                         FL|  AirTran Airways|                         FL|     Domestic|                 US|          Deplaned|           Low Fare|International|            A|              8055|                   Deplaned|                    8055|2005| July|  7|     Norte|     1|\n",
      "|         200507|  AirTran Airways|                         FL|  AirTran Airways|                         FL|     Domestic|                 US|          Enplaned|           Low Fare|International|            A|              7984|                   Enplaned|                    7984|2005| July|  7|     Norte|     1|\n",
      "|         200507|  Alaska Airlines|                         AS|  Alaska Airlines|                         AS|     Domestic|                 US|          Deplaned|              Other|International|            A|             36641|                   Deplaned|                   36641|2005| July|  7|     Norte|     1|\n",
      "|         200507|  Alaska Airlines|                         AS|  Alaska Airlines|                         AS|     Domestic|                 US|          Enplaned|              Other|International|            A|             39379|                   Enplaned|                   39379|2005| July|  7|     Norte|     1|\n",
      "|         200507|  Alaska Airlines|                         AS|  Alaska Airlines|                         AS|     Domestic|                 US|    Thru / Transit|              Other|International|            A|              3678|         Thru / Transit * 2|                    7356|2005| July|  7|     Norte|     1|\n",
      "|         200507|  Alaska Airlines|                         AS|  Alaska Airlines|                         AS|International|             Canada|          Deplaned|              Other|International|            A|              7977|                   Deplaned|                    7977|2005| July|  7|     Norte|     2|\n",
      "|         200507|  Alaska Airlines|                         AS|  Alaska Airlines|                         AS|International|             Canada|          Enplaned|              Other|International|            A|              8837|                   Enplaned|                    8837|2005| July|  7|     Norte|     2|\n",
      "|         200507|  Alaska Airlines|                         AS|  Alaska Airlines|                         AS|International|             Mexico|          Deplaned|              Other|International|            A|              6969|                   Deplaned|                    6969|2005| July|  7|    Centro|     5|\n",
      "|         200507|  Alaska Airlines|                         AS|  Alaska Airlines|                         AS|International|             Mexico|          Enplaned|              Other|International|            A|             10046|                   Enplaned|                   10046|2005| July|  7|    Centro|     5|\n",
      "+---------------+-----------------+---------------------------+-----------------+---------------------------+-------------+-------------------+------------------+-------------------+-------------+-------------+------------------+---------------------------+------------------------+----+-----+---+----------+------+\n",
      "only showing top 20 rows\n",
      "\n"
     ]
    }
   ],
   "source": [
    "datos_limpios = datos_limpios.withColumn(\n",
    "    \"hemisferio\",\n",
    "    F.when(\n",
    "        (F.col(\"GEO_Region\").isin(\"Asia\", \"Canada\", \"US\", \"Europe\")), \"Norte\"\n",
    "    ).when(\n",
    "        (F.col(\"GEO_Region\").isin(\"Australia / Oceania\", \"South America\")), \"Sur\"\n",
    "    ).when(\n",
    "        (F.col(\"GEO_Region\").isin(\"Central America\", \"Middle East\", \"Mexico\")), \"Centro\"\n",
    "    ).otherwise(None)\n",
    ")\n",
    "\n",
    "datos_limpios = datos_limpios.withColumn(\n",
    "    \"Region\",\n",
    "    F.when(\n",
    "        (F.col(\"GEO_Region\").isin(\"US\")), 1\n",
    "    ).when(\n",
    "        (F.col(\"GEO_Region\").isin(\"Canada\")), 2\n",
    "    ).when(\n",
    "        (F.col(\"GEO_Region\").isin(\"Europe\")), 3\n",
    "    ).when(\n",
    "        (F.col(\"GEO_Region\").isin(\"Australia / Oceania\")), 4\n",
    "    ).when(\n",
    "        (F.col(\"GEO_Region\").isin(\"Mexico\")), 5\n",
    "    ).when(\n",
    "        (F.col(\"GEO_Region\").isin(\"South America\")), 6\n",
    "    ).when(\n",
    "        (F.col(\"GEO_Region\").isin(\"Asia\")), 7\n",
    "    ).when(\n",
    "        (F.col(\"GEO_Region\").isin(\"Middle East\")), 8\n",
    "    ).when(\n",
    "        (F.col(\"GEO_Region\").isin(\"Central America\")), 9\n",
    "    ).otherwise(None) )\n",
    "\n",
    "datos_limpios.show()"
   ]
  },
  {
   "cell_type": "code",
   "execution_count": 20,
   "metadata": {
    "colab": {
     "base_uri": "https://localhost:8080/"
    },
    "id": "uVnAu2A8isgu",
    "outputId": "5532e190-84a9-4956-c747-8cf5ad513c2c"
   },
   "outputs": [
    {
     "name": "stdout",
     "output_type": "stream",
     "text": [
      "                sum_sq       df         F   PR(>F)\n",
      "C(mes)    8.782709e+10     11.0  2.349836  0.00687\n",
      "Residual  5.095006e+13  14995.0       NaN      NaN\n"
     ]
    }
   ],
   "source": [
    "datos_limpios_pandas = datos_limpios.toPandas()\n",
    "\n",
    "# Ajustar el modelo OLS con la fórmula correcta\n",
    "model = ols('Cantidad_pasajeros ~ C(mes)', data=datos_limpios_pandas).fit()\n",
    "anova_table = sm.stats.anova_lm(model, typ=2)\n",
    "print(anova_table)"
   ]
  },
  {
   "cell_type": "code",
   "execution_count": 21,
   "metadata": {
    "colab": {
     "base_uri": "https://localhost:8080/"
    },
    "id": "njGk5YVxisjY",
    "outputId": "632b1cdc-37ee-464d-d5e6-a82dd7d96508"
   },
   "outputs": [
    {
     "name": "stdout",
     "output_type": "stream",
     "text": [
      "+-------------------+------------------+\n",
      "|         GEO_Region|   media_pasajeros|\n",
      "+-------------------+------------------+\n",
      "|             Europe|12755.652465294399|\n",
      "|    Central America| 4946.715328467153|\n",
      "|                 US| 58330.34345351044|\n",
      "|      South America| 2786.011111111111|\n",
      "|             Mexico|  7173.62062780269|\n",
      "|        Middle East|  8658.61214953271|\n",
      "|             Canada|   9777.9682651622|\n",
      "|Australia / Oceania| 6417.016282225238|\n",
      "|               Asia| 13435.00458295142|\n",
      "+-------------------+------------------+\n",
      "\n"
     ]
    }
   ],
   "source": [
    "resultado = datos_limpios.groupBy(\"GEO_Region\").agg(\n",
    "    F.avg(\"Cantidad_pasajeros\").alias(\"media_pasajeros\")\n",
    ")\n",
    "resultado.show()"
   ]
  },
  {
   "cell_type": "code",
   "execution_count": 22,
   "metadata": {
    "colab": {
     "base_uri": "https://localhost:8080/"
    },
    "id": "mxEPf387jlrj",
    "outputId": "2e419653-3621-4813-f7e2-ce76b812d08e"
   },
   "outputs": [
    {
     "name": "stdout",
     "output_type": "stream",
     "text": [
      "+-------------------+------------------+\n",
      "|Price Category Code|   media_pasajeros|\n",
      "+-------------------+------------------+\n",
      "|              Other|27787.546114464734|\n",
      "|           Low Fare| 39144.21041666667|\n",
      "+-------------------+------------------+\n",
      "\n"
     ]
    }
   ],
   "source": [
    "resultado = datos_limpios.groupBy(\"Price Category Code\").agg(\n",
    "    F.avg(\"Cantidad_pasajeros\").alias(\"media_pasajeros\")\n",
    ")\n",
    "resultado = resultado.orderBy(\"media_pasajeros\", ascending=True)\n",
    "resultado.show()"
   ]
  },
  {
   "cell_type": "code",
   "execution_count": 23,
   "metadata": {
    "colab": {
     "base_uri": "https://localhost:8080/"
    },
    "id": "DXFKnMl9jluM",
    "outputId": "73e7f971-5b5d-4470-f93f-6443b62ef723"
   },
   "outputs": [
    {
     "name": "stdout",
     "output_type": "stream",
     "text": [
      "+----+------------------+\n",
      "|Year|   media_pasajeros|\n",
      "+----+------------------+\n",
      "|2006|24348.407596785975|\n",
      "|2005|24779.903597122302|\n",
      "|2007| 25233.55713271824|\n",
      "|2008| 25983.72505233775|\n",
      "|2009|26804.696338837042|\n",
      "|2010|28383.224150397687|\n",
      "|2011| 29444.45035971223|\n",
      "|2016|30808.212938005392|\n",
      "|2012|32220.526124818578|\n",
      "|2013| 33097.02503681885|\n",
      "|2015| 34286.22397260274|\n",
      "|2014| 34440.51973684211|\n",
      "+----+------------------+\n",
      "\n"
     ]
    }
   ],
   "source": [
    "resultado = datos_limpios.groupBy(\"Year\").agg(\n",
    "    F.avg(\"Cantidad_pasajeros\").alias(\"media_pasajeros\")\n",
    ")\n",
    "resultado = resultado.orderBy(\"media_pasajeros\", ascending=True)\n",
    "resultado.show()"
   ]
  },
  {
   "cell_type": "code",
   "execution_count": 24,
   "metadata": {
    "colab": {
     "base_uri": "https://localhost:8080/"
    },
    "id": "Yk5tvofqjlxI",
    "outputId": "9f312a23-933d-43c4-c06f-c5f34d572cd5"
   },
   "outputs": [
    {
     "name": "stdout",
     "output_type": "stream",
     "text": [
      "+---------+------------------+\n",
      "|    Month|   media_pasajeros|\n",
      "+---------+------------------+\n",
      "| February| 24258.40796812749|\n",
      "|  January| 26094.37066246057|\n",
      "| November|27702.751385589865|\n",
      "| December|28723.198570293884|\n",
      "|September|28725.348496530456|\n",
      "|    April|28813.577893820715|\n",
      "|    March|29359.807661612133|\n",
      "|  October|29645.857915057913|\n",
      "|      May|30340.417235494882|\n",
      "|     June|31886.650887573964|\n",
      "|   August|32636.380916030535|\n",
      "|     July|32657.033768227167|\n",
      "+---------+------------------+\n",
      "\n"
     ]
    }
   ],
   "source": [
    "resultado = datos_limpios.groupBy(\"Month\").agg(\n",
    "    F.avg(\"Cantidad_pasajeros\").alias(\"media_pasajeros\")\n",
    ")\n",
    "resultado = resultado.orderBy(\"media_pasajeros\", ascending=True)\n",
    "resultado.show()"
   ]
  },
  {
   "cell_type": "code",
   "execution_count": 25,
   "metadata": {
    "colab": {
     "base_uri": "https://localhost:8080/"
    },
    "id": "EPfr-rSijl0H",
    "outputId": "a3cb5912-58b2-45e9-ab0e-ae37c5edf8c9"
   },
   "outputs": [
    {
     "name": "stdout",
     "output_type": "stream",
     "text": [
      "+-------------+------------------+\n",
      "|  GEO_Summary|   media_pasajeros|\n",
      "+-------------+------------------+\n",
      "|International|10930.673072747015|\n",
      "|     Domestic| 58330.34345351044|\n",
      "+-------------+------------------+\n",
      "\n"
     ]
    }
   ],
   "source": [
    "resultado = datos_limpios.groupBy(\"GEO_Summary\").agg(\n",
    "    F.avg(\"Cantidad_pasajeros\").alias(\"media_pasajeros\")\n",
    ")\n",
    "resultado = resultado.orderBy(\"media_pasajeros\", ascending=True)\n",
    "resultado.show()"
   ]
  },
  {
   "cell_type": "code",
   "execution_count": 26,
   "metadata": {
    "colab": {
     "base_uri": "https://localhost:8080/"
    },
    "id": "_CITVcXejl28",
    "outputId": "8347301a-9e0a-4b08-b480-363cc2b42531"
   },
   "outputs": [
    {
     "name": "stdout",
     "output_type": "stream",
     "text": [
      "+-------------+------------------+\n",
      "|  GEO_Summary|   media_pasajeros|\n",
      "+-------------+------------------+\n",
      "|International|11493.706383971215|\n",
      "|     Domestic| 84951.31664013123|\n",
      "+-------------+------------------+\n",
      "\n"
     ]
    }
   ],
   "source": [
    "resultado = datos_limpios.groupBy(\"GEO_Summary\").agg(\n",
    "    F.stddev(\"Cantidad_pasajeros\").alias(\"media_pasajeros\")\n",
    ")\n",
    "resultado = resultado.orderBy(\"media_pasajeros\", ascending=True)\n",
    "resultado.show()"
   ]
  },
  {
   "cell_type": "code",
   "execution_count": 27,
   "metadata": {
    "colab": {
     "base_uri": "https://localhost:8080/"
    },
    "id": "l3SWCH6Pjl6F",
    "outputId": "3c7e98fe-c23a-482b-d7fd-6a2acfdddea5"
   },
   "outputs": [
    {
     "name": "stdout",
     "output_type": "stream",
     "text": [
      "+-------------------+------------------+\n",
      "|         GEO_Region|    desv_pasajeros|\n",
      "+-------------------+------------------+\n",
      "|      South America| 396.7586506195526|\n",
      "|    Central America|1220.8403125914656|\n",
      "|        Middle East|   2732.7195183986|\n",
      "|Australia / Oceania|2799.8406500183883|\n",
      "|             Mexico| 5336.223001980255|\n",
      "|             Canada| 7833.110588404248|\n",
      "|             Europe| 8634.076411562175|\n",
      "|               Asia|16188.148775860833|\n",
      "|                 US| 84951.31664013123|\n",
      "+-------------------+------------------+\n",
      "\n"
     ]
    }
   ],
   "source": [
    "resultado = datos_limpios.groupBy(\"GEO_Region\").agg(\n",
    "    F.stddev(\"Cantidad_pasajeros\").alias(\"desv_pasajeros\")\n",
    ")\n",
    "resultado = resultado.orderBy(\"desv_pasajeros\", ascending=True)\n",
    "resultado.show()"
   ]
  },
  {
   "cell_type": "code",
   "execution_count": 28,
   "metadata": {
    "colab": {
     "base_uri": "https://localhost:8080/"
    },
    "id": "nWrbRvdzjl8z",
    "outputId": "ba37675b-bee2-4b38-8d21-15adc0eac831"
   },
   "outputs": [
    {
     "name": "stdout",
     "output_type": "stream",
     "text": [
      "+---------+------------------+\n",
      "|    Month|    desv_pasajeros|\n",
      "+---------+------------------+\n",
      "| February|  47569.0069987234|\n",
      "|  January| 51294.88007998184|\n",
      "| November|56175.549821247325|\n",
      "|    April|56293.933065065205|\n",
      "|    March|57519.653386710845|\n",
      "| December| 57566.02013447425|\n",
      "|September| 58236.29488536921|\n",
      "|      May| 59000.17436267259|\n",
      "|  October| 60490.12293144308|\n",
      "|     June|61424.496549347394|\n",
      "|     July|65309.479556884944|\n",
      "|   August| 65568.50655076625|\n",
      "+---------+------------------+\n",
      "\n"
     ]
    }
   ],
   "source": [
    "resultado = datos_limpios.groupBy(\"Month\").agg(\n",
    "    F.stddev(\"Cantidad_pasajeros\").alias(\"desv_pasajeros\")\n",
    ")\n",
    "resultado = resultado.orderBy(\"desv_pasajeros\", ascending=True)\n",
    "resultado.show()"
   ]
  },
  {
   "cell_type": "code",
   "execution_count": 29,
   "metadata": {
    "colab": {
     "base_uri": "https://localhost:8080/"
    },
    "id": "x6W-8CX4ismZ",
    "outputId": "344d1357-5a9a-45be-a3f0-1f2567a5bf64"
   },
   "outputs": [
    {
     "name": "stdout",
     "output_type": "stream",
     "text": [
      "+----+------------------+\n",
      "|Year|    desv_pasajeros|\n",
      "+----+------------------+\n",
      "|2008|  50774.2273603889|\n",
      "|2007|52686.333022728555|\n",
      "|2006| 53418.13826968551|\n",
      "|2005| 54774.38414321783|\n",
      "|2009| 55096.04274953367|\n",
      "|2016|56351.917740411474|\n",
      "|2010|  57782.3443543718|\n",
      "|2011|57938.886803724185|\n",
      "|2012|58612.368565066805|\n",
      "|2015|62735.130892386165|\n",
      "|2014| 63694.36786274649|\n",
      "|2013| 69500.20489950952|\n",
      "+----+------------------+\n",
      "\n"
     ]
    }
   ],
   "source": [
    "resultado = datos_limpios.groupBy(\"Year\").agg(\n",
    "    F.stddev(\"Cantidad_pasajeros\").alias(\"desv_pasajeros\")\n",
    ")\n",
    "resultado = resultado.orderBy(\"desv_pasajeros\", ascending=True)\n",
    "resultado.show()"
   ]
  },
  {
   "cell_type": "code",
   "execution_count": 30,
   "metadata": {
    "colab": {
     "base_uri": "https://localhost:8080/"
    },
    "id": "IyCf50Y1MUqN",
    "outputId": "e110a737-0d8c-47e8-d7cb-18d1a86acd4d"
   },
   "outputs": [
    {
     "name": "stdout",
     "output_type": "stream",
     "text": [
      "+--------------------+------------------+\n",
      "|   Operating_Airline|   media_pasajeros|\n",
      "+--------------------+------------------+\n",
      "|Evergreen Interna...|               2.0|\n",
      "|         Ameriflight|               5.0|\n",
      "|      Boeing Company|              18.0|\n",
      "|      Atlas Air, Inc|              34.0|\n",
      "|        Xtra Airways|              73.0|\n",
      "|           Servisair| 90.05555555555556|\n",
      "|Miami Air Interna...|           107.375|\n",
      "|    Pacific Aviation|             160.0|\n",
      "|       Swissport USA|             258.6|\n",
      "|       World Airways| 261.6666666666667|\n",
      "|     Air Canada Jazz| 294.2142857142857|\n",
      "|     BelAir Airlines| 415.3636363636364|\n",
      "|       Allegiant Air|         1516.8125|\n",
      "|Atlantic Southeas...| 2176.909090909091|\n",
      "|   XL Airways France|2223.1612903225805|\n",
      "|          Air Berlin|           2320.75|\n",
      "|   Republic Airlines|            2452.5|\n",
      "|            LAN Peru| 2786.011111111111|\n",
      "|          Icelandair|            2799.7|\n",
      "|   Air India Limited|            2834.5|\n",
      "+--------------------+------------------+\n",
      "only showing top 20 rows\n",
      "\n"
     ]
    }
   ],
   "source": [
    "resultado = datos_limpios.groupBy(\"Operating_Airline\").agg(\n",
    "    F.mean(\"Cantidad_pasajeros\").alias(\"media_pasajeros\")\n",
    ")\n",
    "resultado = resultado.orderBy(\"media_pasajeros\", ascending=True)\n",
    "resultado_filtrado = resultado.filter(\n",
    "    (F.col(\"media_pasajeros\").isNotNull()) & (F.col(\"media_pasajeros\") != 0.0)\n",
    ")\n",
    "resultado_filtrado.show()"
   ]
  },
  {
   "cell_type": "code",
   "execution_count": 31,
   "metadata": {
    "colab": {
     "base_uri": "https://localhost:8080/"
    },
    "id": "3Hjx_xC3j3BX",
    "outputId": "e7e8ac51-825e-49a8-c805-ce53d2ea3e7e"
   },
   "outputs": [
    {
     "name": "stdout",
     "output_type": "stream",
     "text": [
      "+--------------------+------------------+\n",
      "|   Operating_Airline|    desv_pasajeros|\n",
      "+--------------------+------------------+\n",
      "|         Ameriflight| 2.811540841738193|\n",
      "|       World Airways|  8.32666399786453|\n",
      "|      Atlas Air, Inc|43.840620433565945|\n",
      "|Miami Air Interna...|57.147615873280316|\n",
      "|           Servisair| 58.46461417910078|\n",
      "|       Swissport USA|108.63161865418637|\n",
      "|     Air Canada Jazz|123.74612881057895|\n",
      "|       Allegiant Air|   296.28594718616|\n",
      "|     BelAir Airlines|  307.386920044947|\n",
      "|   Air India Limited|332.53657156555187|\n",
      "|            LAN Peru| 396.7586506195526|\n",
      "|  All Nippon Airways| 729.6152772279747|\n",
      "|          Air Berlin| 752.8463464934738|\n",
      "|Atlantic Southeas...| 805.7488034115435|\n",
      "| COPA Airlines, Inc.| 925.0276889232697|\n",
      "|American Eagle Ai...| 972.0801476612352|\n",
      "| Swiss International|1010.2268937797376|\n",
      "|       China Eastern|1106.9863754740318|\n",
      "|                TACA|1107.0208081703788|\n",
      "|     Spirit Airlines|1139.3293022905937|\n",
      "+--------------------+------------------+\n",
      "only showing top 20 rows\n",
      "\n"
     ]
    }
   ],
   "source": [
    "resultado = datos_limpios.groupBy(\"Operating_Airline\").agg(\n",
    "    F.stddev(\"Cantidad_pasajeros\").alias(\"desv_pasajeros\")\n",
    ")\n",
    "resultado = resultado.orderBy(\"desv_pasajeros\", ascending=True)\n",
    "resultado_filtrado = resultado.filter(\n",
    "    (F.col(\"desv_pasajeros\").isNotNull()) & (F.col(\"desv_pasajeros\") != 0.0)\n",
    ")\n",
    "resultado_filtrado.show()"
   ]
  },
  {
   "cell_type": "code",
   "execution_count": 32,
   "metadata": {
    "colab": {
     "base_uri": "https://localhost:8080/"
    },
    "id": "rStiHGrNj3FU",
    "outputId": "9c6f4901-bd1c-4dfb-c1dd-ca78d44b15d3"
   },
   "outputs": [
    {
     "name": "stdout",
     "output_type": "stream",
     "text": [
      "                     sum_sq       df           F  PR(>F)\n",
      "C(GEO_Region)  8.070191e+12      8.0  352.115472     0.0\n",
      "Residual       4.296769e+13  14998.0         NaN     NaN\n"
     ]
    }
   ],
   "source": [
    "datos_limpios_pandas = datos_limpios.toPandas()\n",
    "modelo = ols('Cantidad_pasajeros ~ C(GEO_Region)', data=datos_limpios_pandas).fit()\n",
    "anova_resultado = sm.stats.anova_lm(modelo, typ=2)\n",
    "print(anova_resultado)"
   ]
  },
  {
   "cell_type": "code",
   "execution_count": 33,
   "metadata": {
    "colab": {
     "base_uri": "https://localhost:8080/"
    },
    "id": "faUmNTIvj3If",
    "outputId": "c7a18963-c858-4ab5-92ad-020dfd51078d"
   },
   "outputs": [
    {
     "name": "stdout",
     "output_type": "stream",
     "text": [
      "                sum_sq       df         F        PR(>F)\n",
      "C(Year)   2.012608e+11     11.0  5.396799  1.269124e-08\n",
      "Residual  5.083662e+13  14995.0       NaN           NaN\n"
     ]
    }
   ],
   "source": [
    "datos_limpios_pandas = datos_limpios.toPandas()\n",
    "modelo = ols('Cantidad_pasajeros ~ C(Year)', data=datos_limpios_pandas).fit()\n",
    "anova_resultado = sm.stats.anova_lm(modelo, typ=2)\n",
    "print(anova_resultado)"
   ]
  },
  {
   "cell_type": "code",
   "execution_count": 34,
   "metadata": {
    "colab": {
     "base_uri": "https://localhost:8080/"
    },
    "id": "8pix-b5mj3Lk",
    "outputId": "4b82fddc-a857-42d7-8267-f3f8361730ee"
   },
   "outputs": [
    {
     "name": "stdout",
     "output_type": "stream",
     "text": [
      "                            sum_sq       df          F  PR(>F)\n",
      "C(Operating_Airline)  1.113477e+13     76.0  54.817709     0.0\n",
      "Residual              3.990311e+13  14930.0        NaN     NaN\n"
     ]
    }
   ],
   "source": [
    "datos_limpios_pandas = datos_limpios.toPandas()\n",
    "modelo = ols('Cantidad_pasajeros ~ C(Operating_Airline)', data=datos_limpios_pandas).fit()\n",
    "anova_resultado = sm.stats.anova_lm(modelo, typ=2)\n",
    "print(anova_resultado)"
   ]
  },
  {
   "cell_type": "code",
   "execution_count": 35,
   "metadata": {
    "colab": {
     "base_uri": "https://localhost:8080/"
    },
    "id": "uOe8E3pokARB",
    "outputId": "ec95099e-b0f3-4f29-820c-143b5b198997"
   },
   "outputs": [
    {
     "name": "stdout",
     "output_type": "stream",
     "text": [
      "                sum_sq       df         F   PR(>F)\n",
      "C(mes)    8.782709e+10     11.0  2.349836  0.00687\n",
      "Residual  5.095006e+13  14995.0       NaN      NaN\n"
     ]
    }
   ],
   "source": [
    "datos_limpios_pandas = datos_limpios.toPandas()\n",
    "modelo = ols('Cantidad_pasajeros ~ C(mes)', data=datos_limpios_pandas).fit()\n",
    "anova_resultado = sm.stats.anova_lm(modelo, typ=2)\n",
    "print(anova_resultado)"
   ]
  },
  {
   "cell_type": "code",
   "execution_count": 36,
   "metadata": {
    "id": "5Rq1kPklkAbJ"
   },
   "outputs": [],
   "source": [
    "datos_limpios = datos_limpios.withColumn(\"label_pasajeros\",\n",
    "                   when(col(\"Cantidad_pasajeros\") < 1000, 0)\n",
    "                   .when((col(\"Cantidad_pasajeros\") >= 1000) & (col(\"Cantidad_pasajeros\") < 5000), 1)\n",
    "                   .when((col(\"Cantidad_pasajeros\") >= 5000) & (col(\"Cantidad_pasajeros\") < 10000), 2)\n",
    "                   .when((col(\"Cantidad_pasajeros\") >= 10000) & (col(\"Cantidad_pasajeros\") < 15000), 3)\n",
    "                   .otherwise(4))"
   ]
  },
  {
   "cell_type": "code",
   "execution_count": 37,
   "metadata": {
    "id": "DrR4yiaHkAUZ"
   },
   "outputs": [],
   "source": [
    "datos_limpios.write.mode(\"overwrite\").csv('/content/datos_limpios', header=True)"
   ]
  },
  {
   "cell_type": "code",
   "execution_count": 38,
   "metadata": {
    "colab": {
     "base_uri": "https://localhost:8080/"
    },
    "id": "4R_ei8LQiQWO",
    "outputId": "57976432-c111-4c15-8eb8-1db739ae6676"
   },
   "outputs": [
    {
     "name": "stdout",
     "output_type": "stream",
     "text": [
      "+--------------------+------------------+--------------------+----------+---------------+\n",
      "|            features|Cantidad_pasajeros|         probability|prediction|label_pasajeros|\n",
      "+--------------------+------------------+--------------------+----------+---------------+\n",
      "|[1.0,2005.0,7.0,4...|             27271|[0.3,0.1,0.1,0.05...|       4.0|              4|\n",
      "|[1.0,2005.0,7.0,4...|             29131|[0.3,0.1,0.1,0.05...|       4.0|              4|\n",
      "|[2.0,2005.0,7.0,5...|             34090|[0.0,0.0,0.0,0.04...|       4.0|              4|\n",
      "|[7.0,2005.0,7.0,1...|              6545|[0.0,0.0,1.0,0.0,...|       2.0|              2|\n",
      "|[1.0,2005.0,7.0,9...|            160890|[0.0,0.0,0.0,0.0,...|       4.0|              4|\n",
      "|[1.0,2005.0,7.0,4...|              5493|[0.0,0.36,0.48,0....|       2.0|              2|\n",
      "|[1.0,2005.0,7.0,4...|              5213|[0.0,0.36,0.48,0....|       2.0|              2|\n",
      "|[7.0,2005.0,7.0,1...|              5041|[0.0,0.8571428571...|       1.0|              2|\n",
      "|[1.0,2005.0,7.0,6...|              1552|[0.0,1.0,0.0,0.0,...|       1.0|              1|\n",
      "|[3.0,2005.0,7.0,6...|               325|[0.90909090909090...|       0.0|              0|\n",
      "|[3.0,2005.0,7.0,6...|               545|[0.90909090909090...|       0.0|              0|\n",
      "|[7.0,2005.0,7.0,1...|              9628|[0.0,0.0,0.185185...|       3.0|              2|\n",
      "|[1.0,2005.0,7.0,2...|              7579|[0.0,0.0,0.987730...|       2.0|              2|\n",
      "|[1.0,2005.0,7.0,3...|              5284|[0.0,0.9268292682...|       1.0|              2|\n",
      "|[1.0,2005.0,7.0,6...|             10967|[0.0,0.7857142857...|       1.0|              3|\n",
      "|[3.0,2005.0,7.0,2...|              9587|[0.0,0.0,1.0,0.0,...|       2.0|              2|\n",
      "|[7.0,2005.0,7.0,2...|              6153|[0.0,0.0232558139...|       2.0|              2|\n",
      "|[7.0,2005.0,7.0,2...|              5646|[0.0,0.0232558139...|       2.0|              2|\n",
      "|[5.0,2005.0,7.0,3...|              7751|[0.0,0.0754716981...|       2.0|              2|\n",
      "|[5.0,2005.0,7.0,3...|              7845|[0.0,0.0754716981...|       2.0|              2|\n",
      "+--------------------+------------------+--------------------+----------+---------------+\n",
      "only showing top 20 rows\n",
      "\n"
     ]
    }
   ],
   "source": [
    "df = spark.read.csv('/content/datos_limpios', header=True, inferSchema=True)\n",
    "airline_indexer = StringIndexer(inputCol=\"Operating_Airline\", outputCol=\"airline_indexed\")\n",
    "terminal_indexer = StringIndexer(inputCol=\"Terminal\", outputCol=\"terminal_indexed\")\n",
    "summary_indexer = StringIndexer(inputCol=\"GEO_Summary\", outputCol=\"summary_indexed\")\n",
    "price_indexer = StringIndexer(inputCol=\"Price Category Code\", outputCol=\"price_indexed\")\n",
    "\n",
    "df = airline_indexer.fit(df).transform(df)\n",
    "df = terminal_indexer.fit(df).transform(df)\n",
    "df = summary_indexer.fit(df).transform(df)\n",
    "df = price_indexer.fit(df).transform(df)\n",
    "\n",
    "assembler = VectorAssembler(inputCols=[\"Region\", \"Year\", \"mes\", \"airline_indexed\", \"summary_indexed\"], outputCol=\"features\")\n",
    "\n",
    "\n",
    "dt_classifier = DecisionTreeClassifier(\n",
    "    featuresCol=\"features\",\n",
    "    labelCol=\"label_pasajeros\",\n",
    "    maxBins=80,\n",
    "    maxDepth=30,\n",
    "    minInstancesPerNode=10\n",
    ")\n",
    "\n",
    "pipeline = Pipeline(stages=[assembler, dt_classifier])\n",
    "\n",
    "train, test = df.randomSplit([0.7, 0.3], seed=1234)\n",
    "\n",
    "model = pipeline.fit(train)\n",
    "\n",
    "predictions = model.transform(test)\n",
    "\n",
    "predictions.select(\"features\", \"Cantidad_pasajeros\", \"probability\", \"prediction\", \"label_pasajeros\").show()"
   ]
  },
  {
   "cell_type": "code",
   "execution_count": 39,
   "metadata": {
    "colab": {
     "base_uri": "https://localhost:8080/"
    },
    "id": "x3WNiHQFkIF-",
    "outputId": "d475b6c7-80d1-4103-bb23-54ba0fd7c40c"
   },
   "outputs": [
    {
     "name": "stdout",
     "output_type": "stream",
     "text": [
      "Accuracy: 75.26%\n"
     ]
    }
   ],
   "source": [
    "\n",
    "evaluator = MulticlassClassificationEvaluator(\n",
    "    labelCol=\"label_pasajeros\",\n",
    "    predictionCol=\"prediction\",\n",
    "    metricName=\"accuracy\"\n",
    ")\n",
    "\n",
    "accuracy = evaluator.evaluate(predictions)\n",
    "\n",
    "print(f\"Accuracy: {accuracy * 100:.2f}%\")"
   ]
  },
  {
   "cell_type": "code",
   "execution_count": 40,
   "metadata": {
    "colab": {
     "base_uri": "https://localhost:8080/"
    },
    "id": "hmrWZEjJkIm0",
    "outputId": "9485b341-974d-416b-f894-d90bf9ab02a3"
   },
   "outputs": [
    {
     "name": "stdout",
     "output_type": "stream",
     "text": [
      "+--------------------+------------------+--------------------+----------+---------------+\n",
      "|            features|Cantidad_pasajeros|         probability|prediction|label_pasajeros|\n",
      "+--------------------+------------------+--------------------+----------+---------------+\n",
      "|[1.0,2005.0,7.0,4...|             29131|[0.11122560750618...|       4.0|              4|\n",
      "|[2.0,2005.0,7.0,5...|             34090|[1.21951219512195...|       4.0|              4|\n",
      "|[7.0,2005.0,7.0,1...|              6545|[0.00342752891029...|       2.0|              2|\n",
      "|[1.0,2005.0,7.0,9...|            160890|[2.27272727272727...|       4.0|              4|\n",
      "|[1.0,2005.0,7.0,4...|              5493|[0.01669781958689...|       1.0|              2|\n",
      "|[1.0,2005.0,7.0,4...|              5213|[0.01669781958689...|       1.0|              2|\n",
      "|[7.0,2005.0,7.0,1...|              5041|[0.00161773532697...|       1.0|              2|\n",
      "|[7.0,2005.0,7.0,1...|              9628|[0.0,0.0089142857...|       3.0|              2|\n",
      "|[1.0,2005.0,7.0,2...|              7579|[0.00131613038042...|       2.0|              2|\n",
      "|[1.0,2005.0,7.0,3...|              5284|[0.01363653364196...|       1.0|              2|\n",
      "|[1.0,2005.0,7.0,6...|             10967|[0.06331781423093...|       2.0|              3|\n",
      "|[3.0,2005.0,7.0,2...|              9587|[0.0,0.0025,0.901...|       2.0|              2|\n",
      "|[7.0,2005.0,7.0,2...|              6153|[0.0,0.1500515565...|       2.0|              2|\n",
      "|[7.0,2005.0,7.0,2...|              5646|[0.0,0.1500515565...|       2.0|              2|\n",
      "|[5.0,2005.0,7.0,3...|              7751|[0.00141346537859...|       2.0|              2|\n",
      "|[1.0,2005.0,7.0,4...|              3238|[0.00666868899962...|       1.0|              1|\n",
      "|[7.0,2005.0,7.0,2...|             12828|[0.0,0.0054924668...|       3.0|              3|\n",
      "|[7.0,2005.0,7.0,2...|             10269|[0.0,0.0054924668...|       3.0|              3|\n",
      "|[1.0,2005.0,7.0,1...|              6586|[0.00825504574572...|       4.0|              2|\n",
      "|[9.0,2005.0,7.0,2...|              7031|[0.0,0.3236748387...|       2.0|              2|\n",
      "+--------------------+------------------+--------------------+----------+---------------+\n",
      "only showing top 20 rows\n",
      "\n"
     ]
    }
   ],
   "source": [
    "\n",
    "airline_indexer = StringIndexer(inputCol=\"Operating_Airline\", outputCol=\"airline_indexed\")\n",
    "terminal_indexer = StringIndexer(inputCol=\"Terminal\", outputCol=\"terminal_indexed\")\n",
    "summary_indexer = StringIndexer(inputCol=\"GEO_Summary\", outputCol=\"summary_indexed\")\n",
    "price_indexer = StringIndexer(inputCol=\"Price Category Code\", outputCol=\"price_indexed\")\n",
    "\n",
    "assembler = VectorAssembler(inputCols=[\"Region\", \"Year\", \"mes\", \"airline_indexed\", \"summary_indexed\"], outputCol=\"features\")\n",
    "\n",
    "rf_classifier = RandomForestClassifier(\n",
    "    featuresCol=\"features\",\n",
    "    labelCol=\"label_pasajeros\",\n",
    "    numTrees=100,\n",
    "    maxDepth=30,\n",
    "    minInstancesPerNode=5,\n",
    "    maxBins=80\n",
    ")\n",
    "\n",
    "pipeline = Pipeline(stages=[assembler, rf_classifier])\n",
    "\n",
    "train, test = df.randomSplit([0.8, 0.2], seed=1234)\n",
    "\n",
    "model = pipeline.fit(train)\n",
    "\n",
    "predictions = model.transform(test)\n",
    "\n",
    "predictions.select(\"features\", \"Cantidad_pasajeros\", \"probability\", \"prediction\", \"label_pasajeros\").show()"
   ]
  },
  {
   "cell_type": "code",
   "execution_count": 41,
   "metadata": {
    "colab": {
     "base_uri": "https://localhost:8080/"
    },
    "id": "mQBRrRIhkIpr",
    "outputId": "95a27f47-e9ec-4c45-f00b-73f6cfe2d66f"
   },
   "outputs": [
    {
     "name": "stdout",
     "output_type": "stream",
     "text": [
      "Accuracy: 78.95%\n"
     ]
    }
   ],
   "source": [
    "\n",
    "evaluator = MulticlassClassificationEvaluator(\n",
    "    labelCol=\"label_pasajeros\",\n",
    "    predictionCol=\"prediction\",\n",
    "    metricName=\"accuracy\"\n",
    ")\n",
    "\n",
    "accuracy = evaluator.evaluate(predictions)\n",
    "accuracy_percentage = accuracy * 100\n",
    "\n",
    "print(f\"Accuracy: {accuracy_percentage:.2f}%\")"
   ]
  },
  {
   "cell_type": "code",
   "execution_count": 42,
   "metadata": {
    "colab": {
     "base_uri": "https://localhost:8080/",
     "height": 607
    },
    "id": "YKTZkmViwXbq",
    "outputId": "c5e1b827-59dd-41da-de12-60dfe4c940ae"
   },
   "outputs": [
    {
     "data": {
      "image/png": "[encoded data removed]",
      "text/plain": [
       "<Figure size 1200x600 with 1 Axes>"
      ]
     },
     "metadata": {},
     "output_type": "display_data"
    }
   ],
   "source": [
    "airline_monthly_passengers = datos_limpios.groupBy(\"Operating_Airline\", \"mes\").agg(\n",
    "    F.sum(\"Cantidad_pasajeros\").alias(\"total_passengers\")\n",
    ")\n",
    "\n",
    "# Paso 2: Categorizar las aerolíneas según la cantidad total de pasajeros\n",
    "airline_monthly_passengers = airline_monthly_passengers.withColumn(\n",
    "    \"passenger_category\",\n",
    "    F.when(F.col(\"total_passengers\") < 100000, \"Baja\")\n",
    "    .when((F.col(\"total_passengers\") >= 100000) & (F.col(\"total_passengers\") <= 500000), \"Media\")\n",
    "    .otherwise(\"Alta\")\n",
    ")\n",
    "\n",
    "airline_monthly_passengers_pd = airline_monthly_passengers.toPandas()\n",
    "# Calcular el total acumulado de pasajeros por mes y categoría\n",
    "accumulated_passengers = airline_monthly_passengers_pd.groupby(['mes', 'passenger_category']).agg(\n",
    "    {'total_passengers': 'sum'}).reset_index()\n",
    "\n",
    "# Establecer el tamaño de la figura\n",
    "plt.figure(figsize=(12, 6))\n",
    "\n",
    "# Crear el gráfico de líneas con acumulados (Cantidad Acumulada de Pasajeros por Categoría y Mes)\n",
    "sns.lineplot(x=\"mes\", y=\"total_passengers\", hue=\"passenger_category\", data=accumulated_passengers)\n",
    "\n",
    "# Añadir título y etiquetas\n",
    "plt.title('Cantidad Acumulada de Pasajeros por Categoría y Mes')\n",
    "plt.xlabel('Mes')\n",
    "plt.ylabel('Total Acumulado de Pasajeros')\n",
    "plt.xticks(rotation=45)\n",
    "\n",
    "plt.xticks(ticks=range(1, 13), labels=[str(i) for i in range(1, 13)])\n",
    "\n",
    "# Mostrar el gráfico\n",
    "plt.tight_layout()  # Ajusta los márgenes\n",
    "plt.show()"
   ]
  },
  {
   "cell_type": "code",
   "execution_count": null,
   "metadata": {
    "id": "1LgWKr8OwXiZ"
   },
   "outputs": [],
   "source": []
  }
 ],
 "metadata": {
  "colab": {
   "provenance": []
  },
  "kernelspec": {
   "display_name": "Python 3",
   "name": "python3"
  },
  "language_info": {
   "name": "python"
  }
 },
 "nbformat": 4,
 "nbformat_minor": 0
}
